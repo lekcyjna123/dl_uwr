{
 "cells": [
  {
   "cell_type": "markdown",
   "metadata": {
    "colab_type": "text",
    "id": "view-in-github"
   },
   "source": [
    "<a href=\"https://colab.research.google.com/github/janchorowski/dl_uwr/blob/summer2021/Assignments/Assignment4.ipynb\" target=\"_parent\"><img src=\"https://colab.research.google.com/assets/colab-badge.svg\" alt=\"Open In Colab\"/></a>"
   ]
  },
  {
   "cell_type": "markdown",
   "metadata": {
    "id": "_mUxp5svuqQL"
   },
   "source": [
    "# Assignment 4\n",
    "\n",
    "**Submission deadlines:**\n",
    "- get at least 4 points by Tuesday, 11.05.2021\n",
    "- remaining points: last lab session before or on Tuesday, 18.05.2021\n",
    "\n",
    "**Points:** Aim to get 12 out of 15+ possible points\n",
    "\n",
    "\n",
    "## Submission instructions\n",
    "The class is held remotely. To submit your solutions please show the notebook over the video call. Make sure you know all the questions and answers, and that the notebook contains results (before presentation do `Runtime -> Restart and run all`)\n",
    "\n",
    "We provide starter code, however, you are not required to use it as long as you properly solve the tasks.\n",
    "\n",
    "As always, please submit corrections using GitHub's Pull Requests to https://github.com/janchorowski/dl_uwr."
   ]
  },
  {
   "cell_type": "markdown",
   "metadata": {
    "id": "cyuBQmWIuqQW"
   },
   "source": [
    "# Problem 1: Word Embeddings [4p]\n",
    "\n",
    "Many natural language processing tasks requrie continuous representations for words.\n",
    "[Word embeddings](https://en.wikipedia.org/wiki/Word_embedding) are mappings from a discrete\n",
    "space to real-valued vectors. Word embeddings might be trained with neural networks,\n",
    "either as a by-product of other tasks (e.g., language modeling, neural machine translation),\n",
    "or with networks designed specifically for the word embedding task.\n",
    "\n",
    "Two problems associated with training neural word embeddings are related to the speed of training:\n",
    "(a) large volume of data, on which the network has to be trained on, and (b) time required to compute\n",
    "output probability distribution over large vocabularities.\n",
    "\n",
    "One of the most popular architectures for training word embeddings is called Word2vec [[1]()], [[2]()]. It builds on the idea that semantics of a word can be defined through the contexts,\n",
    "in which the word appears in the sentence.\n",
    "\n",
    "Let $w_1, w_2,\\ldots,w_N$ be an $N$-word sentence in a natural language.\n",
    "We define a context of a word $w_l$ a list of $n$ preceeding and following words\n",
    "$w_{l-n},\\ldots,w_{l-1},w_{l+1},\\dots,w_{l+n}$.\n",
    "\n",
    "The underlying assumption is that similar words appear in similar contexts.\n",
    "For instance, words *Poland* and *Monaco* are similar in a sense, that they are singular nouns\n",
    "describing abstract concepts of existing, european countries.\n",
    "We can convince ourselves by looking at exceprts from Wikipedia articles\n",
    "on Poland and Monaco:\n",
    "\n",
    "* Despite **Monaco's independence** and separate foreign policy\n",
    "* aimed to preserve **Poland's independence** and the szlachta's\n",
    "\n",
    "* **Monaco joined the** Council of Europe in 2004\n",
    "* **Poland joined the** Schengen Area in 2007\n",
    "\n",
    "* nearly one-fifth **of Poland's population** – half of them\n",
    "* Christians comprise a total of 83.2% **of Monaco's population**.\n",
    "\n",
    "### Tasks\n",
    "You will use word vectors pre-computed on a large dataset.\n",
    "1. **[1p]** It has been observed, that word embeddings allow to perform semantic arithmetic where, for instance\n",
    "\n",
    "    **king** - **man** + **woman** ~= **queen**\n",
    "\n",
    "    This *analogy* task is often used as a quality measure of word embeddings. Load word embeddings and compute\n",
    "    their analogy score on a dataset of analogous pairs, expressed as an accuracy of accuracy of predicting a pair\n",
    "    item (**queen** in the example above). Specifically, compare `FastText` and `Word2vec` word embeddings.\n",
    "    \n",
    "2. **[1p]** Word embedding capture approximate semantics. Under an assumption that words of similar semantics\n",
    "    exist in different languages, a mapping $W: \\mathbb{R}^{300}\\mapsto\\mathbb{R}^{300}$ might be constructed that\n",
    "    translates word embeddings between languages. It has been shown that such ortonormal mappings allow to express\n",
    "    approximate, bilingual dictionaries. In addition, non-linear mappings do not offer additional benefits.\n",
    "\n",
    "    Given a simple English-Polish dictionary of word pairs (sourced from Wikitionary)\n",
    "    find an orthonormal mapping $W$ between English and Polish `FastText`\n",
    "    word embeddings using Procrustes analysis.\n",
    "\n",
    "3. **[1p]** Word embeddings can often be nicely visualized.\n",
    "    Make a 2-D `PCA` plot of word embeddings for countries and their capital cities\n",
    "    for `FastText` or `Word2vec`. Connect each country with its capital city with a line segment.\n",
    "    Can you see any regularities?\n",
    "    \n",
    "4. **[1p]** Plot 400 roughly most frequent words' embeddings (either `FastText` or `Word2vec`) in 2-D with `PCA`.\n",
    "    Skip stop words, punctuations, artifact words, etc. You can be imprecise and use heuristics\n",
    "    (e.g., select words than are at lest 3 charactes long).\n",
    "    Can you see any regularities? Another method of making meaningful visualizations is `t-SNE`.\n",
    "    \n",
    "    Make another 2-D visualization, this time using `t-SNE`. Visualizations with `t-SNE` are obtained\n",
    "    with gradient descent. Try to tweak optimization parameters to get lower optimization error,\n",
    "    than the one with default parameters.\n",
    "    Can you see any regularities this time?"
   ]
  },
  {
   "cell_type": "markdown",
   "metadata": {
    "id": "g5PkZy3FuqRr"
   },
   "source": [
    "# Problem 2: kNN Talker [11p+]\n",
    "\n",
    "In this exercise you will build a simple chatbot that uses distributed representations of words and sentences to perform a nearest neighbor selection of responses.\n",
    "\n",
    "We have collected two sets of data:\n",
    "- `./reddit_pairs.txt` of excerpts of [Reddit](https://www.reddit.com/) conversations,\n",
    "- `./hackernews_pairs.txt` of excertps from [Hackernews](https://news.ycombinator.com/).\n",
    "\n",
    "The two corpuses are formatted as `tab`-separated pairs of utterances: a `prompt` and a `response`. Successive lines belong to different conversations.\n",
    "\n",
    "The main idea of the chatbot is to build a representation of the user `input` and of all `prompts` from the corpus. Then select the best (or randomly one of the top few) matches and print the associated `response`.\n",
    "\n",
    "The key to get the bot working is to create good sentence representations. We will try:\n",
    "- averaging word embeddings\n",
    "- using sentence models such as BERT.\n",
    "\n",
    "### Warning:\n",
    "The Reddit corpus may contain abusive language, it was not heavily cleaned.\n",
    "\n",
    "### Tasks\n",
    "The code below is a starting point, but you can develop you own. The following list suggests some actions to try, along with the points that reflect our subjective hardness. The exercise is worth 6 regular points (i.e. the report, word embedding-based model and BERT-based model), anything on top of it will be counted as a bonus.\n",
    "\n",
    "1. [2p] Type in a Markdown cell a report of your actions, what did you try, why, what was the result. Show exemplary conversations (they must be probable under your model). Cherry-pick 3 nice dialogues.\n",
    "2. [2p] Represent sentences by averaging their word vectors. Properly handle tokenization (you can use regular expressions or e.g. `nltk` library). Describe how you handle lower and upper cased words. Try a few nearest neighbor selection methods (such as euclidean or cosine distance). See how embedding normalization affects the results (you can normalize individual word vectors, full sentence vectors etc.).\n",
    "3. [2p] Use the [transformers](https://huggingface.co/transformers) package to load a pretrained BERT model. Use it to represent sentences by e.g. averaging the activations in the last layer.\n",
    "4. [1p] Incoportate context: keep a running average of past conversation turns.\n",
    "5. [1p] Do data cleaning (including profanieties), finding rules for good responses.\n",
    "6. [1p] Try mixing different sentence representation techniques.\n",
    "7. [2p] Try to cluster responses to the highest scored prompts. Which responses are more funny: from the largerst or from the smallest clusters?.\n",
    "8. [1p+] Implement your own enhancements.\n"
   ]
  },
  {
   "cell_type": "markdown",
   "metadata": {
    "id": "C3SN5za0rEdp"
   },
   "source": [
    "# Starter code"
   ]
  },
  {
   "cell_type": "code",
   "execution_count": 1,
   "metadata": {
    "id": "czZXkkVEASTf"
   },
   "outputs": [],
   "source": [
    "# Please note that this code needs only to be run in a fresh runtime.\n",
    "# However, it can be rerun afterwards too.\n",
    "\n",
    "# Download word vectors\n",
    "# !pip install -q gdown httpimport\n",
    "![ -e word2vec.tar.xz ] || gdown 'https://drive.google.com/uc?id=1v6D8IjYVFlonhQuN_J3PML5KSVQSpbED' -O word2vec.tar.xz\n",
    "![ -d word2vec ] || tar Jxf word2vec.tar.xz\n",
    "\n",
    "# Download conversation corpuses\n",
    "![ -e  hackernews_pairs.txt ] || gdown 'https://drive.google.com/uc?id=10cp2maNp1suzc5BaFQwDJr2GTKXHQOz_' -O hackernews_pairs.txt\n",
    "![ -e  reddit_pairs.txt ] || gdown 'https://drive.google.com/uc?id=1Uf0Xl9aqQVBBpOwhYTV7iWCwj95FDqtL' -O reddit_pairs.txt"
   ]
  },
  {
   "cell_type": "code",
   "execution_count": 6,
   "metadata": {
    "id": "KJSP8qDQtI8H"
   },
   "outputs": [],
   "source": [
    "# Huggingface Transformers implementation\n",
    "!pip install -q tqdm boto3 requests regex sentencepiece sacremoses\n",
    "!pip install -q transformers"
   ]
  },
  {
   "cell_type": "code",
   "execution_count": 8,
   "metadata": {},
   "outputs": [],
   "source": [
    "!pip install -q nltk"
   ]
  },
  {
   "cell_type": "code",
   "execution_count": 2,
   "metadata": {
    "id": "ky2fLuhOuqQN"
   },
   "outputs": [
    {
     "name": "stdout",
     "output_type": "stream",
     "text": [
      "Populating the interactive namespace from numpy and matplotlib\n"
     ]
    }
   ],
   "source": [
    "%pylab inline"
   ]
  },
  {
   "cell_type": "code",
   "execution_count": 13,
   "metadata": {},
   "outputs": [],
   "source": [
    "!pip install -q gensim\n",
    "!pip install -q tabulate"
   ]
  },
  {
   "cell_type": "code",
   "execution_count": 3,
   "metadata": {
    "id": "kF7Xu9Z1GBk6"
   },
   "outputs": [
    {
     "name": "stderr",
     "output_type": "stream",
     "text": [
      "[nltk_data] Downloading package punkt to /home/i309016/nltk_data...\n",
      "[nltk_data]   Package punkt is already up-to-date!\n",
      "/pio/scratch/1/i309016/miniconda/lib/python3.8/site-packages/gensim/similarities/__init__.py:15: UserWarning: The gensim.similarities.levenshtein submodule is disabled, because the optional Levenshtein package <https://pypi.org/project/python-Levenshtein/> is unavailable. Install Levenhstein (e.g. `pip install python-Levenshtein`) to suppress this warning.\n",
      "  warnings.warn(msg)\n",
      "<ipython-input-3-f5aa4b1aad01>:17: TqdmExperimentalWarning: Using `tqdm.autonotebook.tqdm` in notebook mode. Use `tqdm.tqdm` instead to force console mode (e.g. in jupyter console)\n",
      "  from tqdm.autonotebook import tqdm\n"
     ]
    }
   ],
   "source": [
    "import collections\n",
    "\n",
    "import codecs\n",
    "\n",
    "import numpy as np\n",
    "from scipy.linalg import orthogonal_procrustes\n",
    "from scipy.spatial import distance\n",
    "\n",
    "import nltk\n",
    "import sklearn\n",
    "nltk.download('punkt')\n",
    "\n",
    "import pprint\n",
    "import gensim\n",
    "\n",
    "import io\n",
    "from tqdm.autonotebook import tqdm\n",
    "\n",
    "\n",
    "import torch\n",
    "\n",
    "import scipy.sparse as sparse\n",
    "import tabulate"
   ]
  },
  {
   "cell_type": "markdown",
   "metadata": {
    "id": "PCuRj_u_uqQY"
   },
   "source": [
    "## 1.1: Analogies"
   ]
  },
  {
   "cell_type": "code",
   "execution_count": 4,
   "metadata": {
    "id": "L11W4J6LtIgw"
   },
   "outputs": [],
   "source": [
    "# Word embeddings assign a vector to each word. To use them we need three things:\n",
    "# 1. the embeddings themselves\n",
    "# 2. a dictionary from words to their embedding ids\n",
    "# 3. an inverse dictionary\n",
    "\n",
    "Embedding = collections.namedtuple(\n",
    "    'Embedding',\n",
    "    ['vec', 'word2idx', 'idx2word'])"
   ]
  },
  {
   "cell_type": "code",
   "execution_count": 5,
   "metadata": {
    "id": "qwb_QRNiuqQZ"
   },
   "outputs": [],
   "source": [
    "def load_vecs_npy(base_path):\n",
    "    \"\"\"Load small embeddings in .npy format.\"\"\"\n",
    "    vec = np.load(base_path + '.npy')\n",
    "    idx2word = [l.strip() for l in codecs.open(\n",
    "                      base_path + '.txt', 'r', 'utf-8')]\n",
    "    word2idx = {w:i for (i,w) in enumerate(idx2word)}\n",
    "    return Embedding(vec, word2idx, idx2word)"
   ]
  },
  {
   "cell_type": "code",
   "execution_count": 177,
   "metadata": {
    "id": "J5UHEt8kuqQc"
   },
   "outputs": [],
   "source": [
    "# Load top 200k word embeddings: Word2vec and FastText\n",
    "word2vec = load_vecs_npy('word2vec/word2vec_GoogleNews_200k')\n",
    "ftext = load_vecs_npy('word2vec/fasttext_wikien_200k')"
   ]
  },
  {
   "cell_type": "code",
   "execution_count": 7,
   "metadata": {
    "id": "rF_7SHHJ5CWY"
   },
   "outputs": [],
   "source": [
    "def load_analogies():\n",
    "    '''Load tuples of analogies, e.g., (man, woman, king, queen)'''\n",
    "    questions_path = 'word2vec/questions-words.txt'\n",
    "    analogies = [l.strip().split() for l in open(questions_path, 'r') \\\n",
    "                 if not l.startswith(':')]\n",
    "    return analogies"
   ]
  },
  {
   "cell_type": "code",
   "execution_count": 8,
   "metadata": {
    "id": "EJATnKFVuqQg"
   },
   "outputs": [],
   "source": [
    "def eval_analogies(vecs, analogies):\n",
    "    \"\"\"\n",
    "    Compute the accuracy on the analogy task.\n",
    "    \n",
    "    In the task, quadruples of words are given (q1, q2, r1, r2).\n",
    "    The words q1 and q2 are bound by a relation. The words r1 and r2 \n",
    "    are bound by the same relation. The task is to predict r2 knowing words\n",
    "    q1, q2, and r1.\n",
    "    \n",
    "    Example:\n",
    "    Quadruple [King, Queen, Man, Woman] yields the question\n",
    "    King is to Queen as Man is to ????\n",
    "    \n",
    "    Args:\n",
    "        word_vecs: Embeddings tupes\n",
    "        analogies: list of quadruples: (q1, q2, r1, r2)\n",
    "        \n",
    "    Returns:\n",
    "        percentage of correct answers\n",
    "    \"\"\"\n",
    "    indexes = [[vecs.word2idx.get(w, None) for w in tupl] \\\n",
    "                for tupl in analogies]\n",
    "    indexes = [tupl for tupl in indexes \\\n",
    "               if all([v is not None for v in tupl])]\n",
    "    # indexes holds quadruples of ints giving the ids of words from our vocab.\n",
    "    indexes = np.asarray(indexes)\n",
    "    print('Got vocab for %d/%d pairs' % (indexes.shape[0], len(analogies)))\n",
    "    \n",
    "    # Extract the vectors for the query words\n",
    "    q1 = vecs.vec[indexes[:, 0]]\n",
    "    q2 = vecs.vec[indexes[:, 1]]\n",
    "    r1 = vecs.vec[indexes[:, 2]]\n",
    "    \n",
    "    # Extractr the word IDs for the correct answers\n",
    "    r2_inds = indexes[:, 3]\n",
    "\n",
    "    #\n",
    "    # TODO \n",
    "    #\n",
    "    # Compute the approximate location of word r2 as r2 = r1 + (q2 - q1)\n",
    "    # Find the word closest to this location using cosine distance.\n",
    "    # Return it's id and compute the accurracy.\n",
    "    #\n",
    "\n",
    "    r2_pred = r1 + (q2-q1)\n",
    "    \n",
    "    \n",
    "    # Normalize length and compute dot product between r2_pred and word_vecs\n",
    "    # to get cosine distance\n",
    "    r2_pred_norm = r2_pred / np.sqrt(np.sum(r2_pred**2, axis=1, keepdims=True))\n",
    "    vecs_norm = vecs.vec / np.sqrt(np.sum(vecs.vec**2, axis=1, keepdims=True))\n",
    "    \n",
    "    # Compute in chunks to save memory\n",
    "    r2_pred_inds = np.concatenate([np.argmax(r2_pred_norm[i:i+1000].dot(vecs_norm.T), axis=1) \\\n",
    "                                   for i in range(0, r2_pred.shape[0], 1000)])\n",
    "    return 100.0 * (r2_pred_inds == r2_inds).sum() / r2_inds.shape[0]"
   ]
  },
  {
   "cell_type": "code",
   "execution_count": 9,
   "metadata": {
    "id": "Cl0JtuxSuqQj"
   },
   "outputs": [
    {
     "name": "stdout",
     "output_type": "stream",
     "text": [
      "['Athens', 'Greece', 'Baghdad', 'Iraq']\n",
      "['athens', 'greece', 'baghdad', 'iraq']\n"
     ]
    }
   ],
   "source": [
    "# Load analogy tuples, e.g., (man, woman, king, queen)\n",
    "analogies = load_analogies()\n",
    "\n",
    "# Some are uppercased geographical names (and FastTexts are lowercased)\n",
    "analogies_lower = [[w.lower() for w in tupl] for tupl in analogies]\n",
    "\n",
    "print(analogies[0])\n",
    "print(analogies_lower[0])"
   ]
  },
  {
   "cell_type": "code",
   "execution_count": 71,
   "metadata": {
    "id": "44kDHN16uqQn"
   },
   "outputs": [
    {
     "name": "stdout",
     "output_type": "stream",
     "text": [
      "FastText analogy task accuracy:\n",
      "-------------------------------\n",
      "Got vocab for 19420/19544 pairs\n",
      "16.374871266735326 % correct\n",
      "\n",
      "Word2vec analogy task accuracy:\n",
      "-------------------------------\n",
      "Got vocab for 18783/19544 pairs\n",
      "20.859287653729435 % correct\n"
     ]
    }
   ],
   "source": [
    "# Keep in mind that the vocab is restricted to 200k most freq words\n",
    "# (in the training corpus!)\n",
    "print('FastText analogy task accuracy:')\n",
    "print('-------------------------------')\n",
    "# Fast-text was trained on lowercased text only\n",
    "print(eval_analogies(ftext, analogies_lower), '% correct')\n",
    "\n",
    "print('\\nWord2vec analogy task accuracy:')\n",
    "print('-------------------------------')\n",
    "# Word2vec has case information\n",
    "print(eval_analogies(word2vec, analogies), '% correct')"
   ]
  },
  {
   "cell_type": "markdown",
   "metadata": {
    "id": "KTNt90qyuqQr"
   },
   "source": [
    "## 1.2: translation through alignment of vector spaces"
   ]
  },
  {
   "cell_type": "code",
   "execution_count": 72,
   "metadata": {
    "id": "Ie4nhd8ZuqQt"
   },
   "outputs": [
    {
     "name": "stdout",
     "output_type": "stream",
     "text": [
      "Dictionary size: 750\n",
      "good -- dobro\n"
     ]
    }
   ],
   "source": [
    "# We're need Polish embeddings\n",
    "ftext_pl = load_vecs_npy('word2vec/fasttext_wikipl_200k')\n",
    "\n",
    "# Load a simple wikitionary-based dict of word pairs\n",
    "en_pl = [l.strip().split('\\t') for l in codecs.open(\n",
    "    'word2vec/word2vec_en_pl', 'r', 'utf-8') if not '<UNK>' in l]\n",
    "en_pl = {t[0]:t[1] for t in en_pl if len(t) == 2}\n",
    "\n",
    "# Keep those, for which we have embeddings\n",
    "en_pl = {en:pl for (en,pl) in en_pl.items() \\\n",
    "         if en in ftext.word2idx and pl in ftext_pl.word2idx}\n",
    "print('Dictionary size:', len(en_pl))\n",
    "print('good --', en_pl['good'])"
   ]
  },
  {
   "cell_type": "code",
   "execution_count": 73,
   "metadata": {
    "id": "b8XGFZp3uqQz"
   },
   "outputs": [
    {
     "name": "stdout",
     "output_type": "stream",
     "text": [
      "(750, 300) (750, 300)\n"
     ]
    }
   ],
   "source": [
    "# Select word embeddings for dictionary words\n",
    "en_words = sorted(en_pl.keys())\n",
    "V_en = ftext.vec[[ftext.word2idx[w] for w in en_words]]\n",
    "V_pl = ftext_pl.vec[[ftext_pl.word2idx[en_pl[w]] for w in en_words]]\n",
    "print(V_en.shape, V_pl.shape)"
   ]
  },
  {
   "cell_type": "code",
   "execution_count": 74,
   "metadata": {
    "id": "vIF8guv6uqQ1"
   },
   "outputs": [],
   "source": [
    "# Find an orthogonal transformation from V_en to V_pl.\n",
    "# which minimizes square reconstruction error\n",
    "W = orthogonal_procrustes(V_en, V_pl)[0]"
   ]
  },
  {
   "cell_type": "code",
   "execution_count": 84,
   "metadata": {
    "id": "yReVugjxuqQ5"
   },
   "outputs": [
    {
     "name": "stdout",
     "output_type": "stream",
     "text": [
      "------------  ---------------\n",
      "provides      dostarcza\n",
      "none          nie\n",
      "independence  suwerenności\n",
      "actual        oczywisty\n",
      "avoid         unikać\n",
      "comes         wychodzi\n",
      "typically     zwykle\n",
      "en            ziółka\n",
      "scale         kalkulacyjny\n",
      "defined       definiowany\n",
      "runs          biec\n",
      "females       samce\n",
      "ocean         morza\n",
      "£             kwotę\n",
      "latter        ten\n",
      "girls         dziewczynka\n",
      "vocals        klawiszowe\n",
      "races         wyścig\n",
      "champion      wicemistrzostwa\n",
      "vs            pojedynek\n",
      "------------  ---------------\n"
     ]
    }
   ],
   "source": [
    "def translate(W, v, vecs2):\n",
    "    #\n",
    "    # TODO\n",
    "    #\n",
    "    # Transform source word vector v using W getting a location in target space.\n",
    "    # Find the closest word in target space using the cosine distance.\n",
    "    #\n",
    "    v_transf= v@W\n",
    "    v_transf_norm= v_transf / np.sqrt(np.sum(v_transf**2))\n",
    "    vects2_norm= vecs2.vec / np.sqrt(np.sum(vecs2.vec**2, axis=1, keepdims=True))\n",
    "    idx=np.argmax(v_transf_norm@vects2_norm.T)\n",
    "    return vecs2.idx2word[idx]\n",
    "\n",
    "# Select random, fairly frequent words not from the dictionary\n",
    "tr_words = [i for i in np.random.randint(1000, 2000, 100) \\\n",
    "            if ftext.idx2word[i] not in en_pl]\n",
    "tr_words = tr_words[:20]\n",
    "\n",
    "rows = [[ftext.idx2word[i], translate(W, ftext.vec[i], ftext_pl)] \\\n",
    "         for i in tr_words] \n",
    "print(tabulate.tabulate(rows))"
   ]
  },
  {
   "cell_type": "markdown",
   "metadata": {
    "id": "dc1X6ONsuqQ9"
   },
   "source": [
    "## 1.3: PCA"
   ]
  },
  {
   "cell_type": "code",
   "execution_count": 85,
   "metadata": {
    "id": "UFXt5nxRuqQ-"
   },
   "outputs": [
    {
     "name": "stdout",
     "output_type": "stream",
     "text": [
      "131 pairs ['Afghanistan', 'Kabul', 'Albania', 'Tirana', 'Algeria', 'Algiers']\n"
     ]
    }
   ],
   "source": [
    "capitals = [l.strip().split('\\t') for l in codecs.open('word2vec/countries_capitals', 'r', 'utf-8')]\n",
    "capitals = {country:capital for (country,capital) in capitals}\n",
    "\n",
    "# Select those present in Word2vec vocab\n",
    "capitals = {k:v for (k,v) in capitals.items() \\\n",
    "            if k in word2vec.word2idx and v in word2vec.word2idx}\n",
    "\n",
    "# Flatten the array to have a list of [country, capital, country, capital, ...]\n",
    "geo = [e for pair in capitals.items() for e in pair]\n",
    "print(len(geo) // 2, 'pairs', geo[:6])"
   ]
  },
  {
   "cell_type": "code",
   "execution_count": 86,
   "metadata": {
    "id": "Z_laByxLuqRD"
   },
   "outputs": [
    {
     "name": "stdout",
     "output_type": "stream",
     "text": [
      "(262, 300)\n"
     ]
    }
   ],
   "source": [
    "geo_inds = [word2vec.word2idx[w] for w in geo]\n",
    "geo_vecs = word2vec.vec[geo_inds]\n",
    "print(geo_vecs.shape)"
   ]
  },
  {
   "cell_type": "code",
   "execution_count": 90,
   "metadata": {
    "id": "kE1HZ742uqRH"
   },
   "outputs": [],
   "source": [
    "from sklearn.decomposition import PCA\n",
    "\n",
    "#\n",
    "# TODO\n",
    "# use PCA from sklearn.decomposition to project the countries and capitals into 2D.\n",
    "# draw lines connecting each country with its capital\n",
    "#\n",
    "# Hint:\n",
    "# - the function \"annotate\" can be used to put text onto the plot\n",
    "#\n",
    "\n",
    "pca=PCA(n_components=2)\n",
    "dane=pca.fit_transform(geo_vecs)"
   ]
  },
  {
   "cell_type": "code",
   "execution_count": 103,
   "metadata": {},
   "outputs": [
    {
     "data": {
      "image/png": "[encoded data removed]",
      "text/plain": [
       "<Figure size 432x288 with 1 Axes>"
      ]
     },
     "metadata": {
      "needs_background": "light"
     },
     "output_type": "display_data"
    }
   ],
   "source": [
    "#plt.gcf().set_size_inches((10,10))\n",
    "plt.scatter(dane[:,0],dane[:,1])\n",
    "for i in range(0,dane.shape[0],2):\n",
    "    plt.plot([dane[i,0],dane[i+1,0]],[dane[i,1],dane[i+1,1]],\"red\")"
   ]
  },
  {
   "cell_type": "markdown",
   "metadata": {
    "id": "fgbSODUOuqRM"
   },
   "source": [
    "## 1.4: PCA vs t-SNE on frequent words"
   ]
  },
  {
   "cell_type": "code",
   "execution_count": 110,
   "metadata": {
    "id": "OoBJkQLKuqRP"
   },
   "outputs": [
    {
     "data": {
      "text/plain": [
       "<matplotlib.collections.PathCollection at 0x7fbcce52ae20>"
      ]
     },
     "execution_count": 110,
     "metadata": {},
     "output_type": "execute_result"
    },
    {
     "data": {
      "image/png": "[encoded data removed]",
      "text/plain": [
       "<Figure size 432x288 with 1 Axes>"
      ]
     },
     "metadata": {
      "needs_background": "light"
     },
     "output_type": "display_data"
    }
   ],
   "source": [
    "# Select words starting from the 200th to ommit stop words,\n",
    "# which have at least 3 chars\n",
    "top_words = [w for (i,w) in enumerate(ftext.idx2word) \\\n",
    "             if i > 200 and len(w) >= 3][:400]\n",
    "top_inds = [ftext.word2idx[w] for w in top_words]\n",
    "\n",
    "\n",
    "#\n",
    "# TODO: make a 2D PCA projection of the selected words.\n",
    "#\n",
    "zanurzenie=ftext.vec[top_inds]\n",
    "pca=PCA(n_components=2)\n",
    "dane=pca.fit_transform(zanurzenie)\n",
    "plt.scatter(dane[:,0],dane[:,1])"
   ]
  },
  {
   "cell_type": "code",
   "execution_count": 134,
   "metadata": {
    "id": "-nHVjV6NuqRV"
   },
   "outputs": [
    {
     "name": "stderr",
     "output_type": "stream",
     "text": [
      "/pio/scratch/1/i309016/miniconda/lib/python3.8/site-packages/sklearn/manifold/_t_sne.py:691: FutureWarning: 'square_distances' has been introduced in 0.24 to help phase out legacy squaring behavior. The 'legacy' setting will be removed in 1.1 (renaming of 0.26), and the default setting will be changed to True. In 1.3, 'square_distances' will be removed altogether, and distances will be squared by default. Set 'square_distances'=True to silence this warning.\n",
      "  warnings.warn(\n"
     ]
    },
    {
     "data": {
      "image/png": "[encoded data removed]",
      "text/plain": [
       "<Figure size 2304x2304 with 1 Axes>"
      ]
     },
     "metadata": {
      "needs_background": "light"
     },
     "output_type": "display_data"
    }
   ],
   "source": [
    "from sklearn.manifold import TSNE\n",
    "\n",
    "#\n",
    "# TODO: make a 2D t-SNE projection of the selected words.\n",
    "# Things will cluster much nicer\n",
    "#\n",
    "\n",
    "tsne=TSNE(n_components=2, n_jobs=4, learning_rate=150, metric=\"cosine\", perplexity=10)\n",
    "dane=tsne.fit_transform(zanurzenie)\n",
    "\n",
    "plt.gcf().set_size_inches((32,32))\n",
    "plt.scatter(dane[:,0],dane[:,1])\n",
    "for i in range(200,600):\n",
    "    plt.annotate(ftext.idx2word[i],dane[i-200,:])\n",
    "plt.savefig(\"tsneWordEmbed.png\")"
   ]
  },
  {
   "cell_type": "markdown",
   "metadata": {
    "id": "9RLhJIkdqvyT"
   },
   "source": [
    "## Problem 2"
   ]
  },
  {
   "cell_type": "markdown",
   "metadata": {},
   "source": [
    "In second task we have to create simple chat bot using diffrent methods. I use 3 embedding methods:\n",
    "- word counting\n",
    "- word embeding using word2vec\n",
    "- sentence tokenization and embeding using BERT model\n",
    "\n",
    "Embeding using word count got pretty good results, but there are rather generic:\n",
    "- \"C++ is best language\"\n",
    "- 'Yes, python.'\n",
    "- \"But i have said that C++ is best.\"\n",
    "- 'This kind of commentary is not welcome.'\n",
    "- \"Why i can not like c++?\"\n",
    "- 'One neuron dying off is much more probable than a fatal heart condition.'\n",
    "\n",
    "Embeding using word2vec were the worst from 3 methods, there were mayby a little more tematic, but there was such big problems with passing reply to prompt, that such dialog is preatty syntetic:\n",
    "- \"C++ is best language\"\n",
    "- 'Go websites are essentially long running processes.'\n",
    "- \"But i have said that C++ is best.\"\n",
    "- \"If a whiteboard can be accurately captured digitally, I'd say that it's better.\"\n",
    "- \"Why i can not like c++?\"\n",
    "- \"It sounds like you've never been a part of a forum or similar a decade ago.\"\n",
    "\n",
    "As we can predict best results were with BERT model, but there is o con, that creating an embeding is long process over 1 hour, but it can be enchanced.\n",
    "\n",
    "- \"C++ is best language\"\n",
    "- 'Are you suggesting those as counterexamples?'\n",
    "- \"But i have said that C++ is best.\"\n",
    "- 'I agree with you.'\n",
    "- \"Why i can not like c++?\"\n",
    "- 'Probably because of the relative evangelism levels.'\n",
    "\n",
    "Additionaly there were made tests for each embedding method using cosine distance and euclidean distance, but diffrences between them wasn't significant (from time to time there was diffrent ordering of some sentences in set of best prompts, but changing content of the set is unlikely).\n",
    "\n",
    "Additionaly there were made tests with normalization or not of embedings. When encodings of dictionary are normalized (such as in count ebeding or in word2vec), than normalization of sentence to which we are looking for answer dosen't play big role. On the other hand normalization of encodings in dictionary is crutial to have correctly working chat system, because without normalization we always get as best prompts which has the biggest leght in embedding instead of most correlated. For example when we have sentence which has big number of tokens, then we have more tokens embeding, so summation over many embeding vectors give us vector which has big pointweise values, so it is long. \n",
    "\n",
    "Another improvment was to add avaraging of the last view queries. It fullfiel it duty to save the context of the dialog, but on the other hand when seqently queries were simmilar one to another set of possible answer was pretty small.\n",
    "\n",
    "The gretest improvment was to add clustering of responses using KMeans, thanks for that we got more deterministic choosing of answer, which in overall is more specyfic and fitted."
   ]
  },
  {
   "cell_type": "code",
   "execution_count": 10,
   "metadata": {
    "id": "TF8EUDVzwrHr"
   },
   "outputs": [
    {
     "name": "stdout",
     "output_type": "stream",
     "text": [
      "Failed to parse the following 0 lines: []\n",
      "Sample fialogue pairs: \n",
      "[('Ah, yep, that was the issue.',\n",
      "  'Yeah, options typically cost the company very little.'),\n",
      " (\"Cross multiplication is a trick to multiply by the 'reciprocal' of the \"\n",
      "  'fraction.',\n",
      "  'Oh, I see.'),\n",
      " (\"Cross multiplication is a trick to multiply by the 'reciprocal' of the \"\n",
      "  'fraction.',\n",
      "  'Whaaa?'),\n",
      " ('Quite cool.', 'It gets into a pretty philosophical area.'),\n",
      " (\"If only the packaging smells, then I agree, it's not damaged.\",\n",
      "  'Sounds like entitlement to me.'),\n",
      " (\"That's what nationalist politics always says.\", 'Can you prove that?'),\n",
      " ('Misleading title.', 'Not really.'),\n",
      " ('Misleading title.',\n",
      "  'It is not completely misleading to all users but enough for me to say '\n",
      "  'something.'),\n",
      " ('Why the hell is this getting downvoted?',\n",
      "  \"Because it's clear the person he's responding to understood that \"\n",
      "  'relationship.'),\n",
      " (\"There's a web without ads.\",\n",
      "  'This just came to mind when you mentioned \"ad tax\".'),\n",
      " ('God bless the designated typer in the mob.',\n",
      "  'I imagine it depends a lot on the mob.'),\n",
      " (\"She hasn't been self-employed in 38 years.\",\n",
      "  'You retire when you hang up your hat and start getting pension.'),\n",
      " ('I disagree strongly.', 'Well said!'),\n",
      " ('I disagree strongly.',\n",
      "  \"It's an interesting point, but I'm wondering how to unpack it.\"),\n",
      " ('Of course this is true.', 'well...yes.')]\n"
     ]
    }
   ],
   "source": [
    "prompts = []\n",
    "responses = []\n",
    "err_lines = []\n",
    "with open('./hackernews_pairs.txt') as f:\n",
    "    for line in f:\n",
    "        line = line.strip()\n",
    "        if not line:\n",
    "            continue\n",
    "        line = line.split('\\t')\n",
    "        if len(line)!=2:\n",
    "            err_lines.append(line)\n",
    "        else:\n",
    "            prompts.append(line[0])\n",
    "            responses.append(line[1])\n",
    "print(f\"Failed to parse the following {len(err_lines)} lines: {err_lines}\") \n",
    "print(f\"Sample fialogue pairs: \\n{pprint.pformat(list(zip(prompts[:15], responses)))}\")"
   ]
  },
  {
   "cell_type": "code",
   "execution_count": 11,
   "metadata": {
    "id": "UTiTRTs_2i3f"
   },
   "outputs": [],
   "source": [
    "class BasicEncoder:\n",
    "    def encode(self, sentence):\n",
    "        # this is a base class!\n",
    "        raise NotImplementedError\n",
    "\n",
    "    def encode_corpus(self, sentences):\n",
    "        ret = [self.encode(sentence) for sentence in tqdm(sentences)]\n",
    "        return np.vstack(ret)"
   ]
  },
  {
   "cell_type": "markdown",
   "metadata": {
    "id": "x08LL_eT9u3B"
   },
   "source": [
    "The code below implements a simple baseline: we encode each sentence as a sparse vector which sums word occurrences."
   ]
  },
  {
   "cell_type": "code",
   "execution_count": 474,
   "metadata": {
    "id": "CEmX8nTy4fvg"
   },
   "outputs": [
    {
     "name": "stdout",
     "output_type": "stream",
     "text": [
      "1.0 Question. : In a sense 'maybe not'.\n",
      "1.0 Linux? : Unfortunately not.\n",
      "1.0 Windows? : Unix based systems\n",
      "1.0 Question. : This is a good question!\n",
      "0.8017837257372732 Hardware or software or technique or best practices... : Mobile phones that still work when you drop them.\n",
      "0.8017837257372732 Hardware or software or technique or best practices... : Floppy disk and cd/dvd drives!\n",
      "0.8017837257372732 Hardware or software or technique or best practices... : Building your own desktop.\n",
      "0.8017837257372732 Hardware or software or technique or best practices... : Extreme programming.\n",
      "0.8017837257372732 Hardware or software or technique or best practices... : Zip drives.\n",
      "0.8017837257372732 Hardware or software or technique or best practices... : It can all go.\n"
     ]
    },
    {
     "name": "stderr",
     "output_type": "stream",
     "text": [
      "<ipython-input-474-16bb5b082a14>:18: RuntimeWarning: divide by zero encountered in true_divide\n",
      "  encodings = encodings.multiply(1.0 / norms)\n"
     ]
    }
   ],
   "source": [
    "class OneHotEncoder(BasicEncoder):\n",
    "    def __init__(self, sentences, token_pattern=None):\n",
    "        if token_pattern is not None:\n",
    "            self.vectorizer = sklearn.feature_extraction.text.CountVectorizer(token_pattern=token_pattern)\n",
    "        else:\n",
    "            self.vectorizer = sklearn.feature_extraction.text.CountVectorizer()    \n",
    "        self.vectorizer.fit(sentences)\n",
    "    \n",
    "    def encode(self, sentence):\n",
    "        return self.vectorizer.transform([sentence])[0]\n",
    "\n",
    "    def encode_corpus(self, sentences):\n",
    "        # Override because sklearn already works on batches\n",
    "        encodings = self.vectorizer.transform(sentences)\n",
    "        # Note: this code needs to handl the scipy sparse matrix\n",
    "        # which has subtle differences with numpy ndarrays\n",
    "        norms = np.array((encodings.power(2)).sum(1))**0.5\n",
    "        encodings = encodings.multiply(1.0 / norms)\n",
    "        return encodings\n",
    "\n",
    "encoder = OneHotEncoder(prompts)\n",
    "encodings = encoder.encode_corpus(prompts)\n",
    "\n",
    "prompt = \"Ultimate question: Windows or Linux?\"\n",
    "enc = encoder.encode(prompt)\n",
    "\n",
    "# Deal with encodings being sparse matrices. Word2vecs will not have the pecularities\n",
    "scores = (encodings @ enc.T).toarray().ravel()\n",
    "top_idx = scores.argsort()[-10:][::-1]\n",
    "\n",
    "for idx in top_idx:\n",
    "    print(scores[idx], prompts[idx], ':', responses[idx])"
   ]
  },
  {
   "cell_type": "code",
   "execution_count": 471,
   "metadata": {
    "id": "7nu0JqmPKcm8"
   },
   "outputs": [],
   "source": [
    "# TODO: build a simple dialogue system using these k-neares neighbor matches, \n",
    "# perform a few test conversations\n",
    "class Dialog:\n",
    "    def __init__(self, encodings, encoder, responses, normalize=False, metryka=\"cos\"):\n",
    "        self.normalize=normalize\n",
    "        self.encoded_corpus=encodings\n",
    "        self.encoder=encoder\n",
    "        self.responses=responses\n",
    "        self.metryka=metryka\n",
    "    \n",
    "    def krokDialogu(self, zdanieWejsciowe):\n",
    "        odpowiedzi=self.zwrocNajlepszeOdpowiedzi(zdanieWejsciowe)\n",
    "        idx=np.random.randint(0,len(odpowiedzi))\n",
    "        return odpowiedzi[idx]\n",
    "    \n",
    "    def zwrocNajlepszeOdpowiedzi(self, zdanieWejsciowe):\n",
    "        enc=self.encoder.encode(zdanieWejsciowe)\n",
    "        \n",
    "        if self.normalize:\n",
    "            enc=enc.multiply(1.0 / np.array((enc.power(2)).sum(1))**0.5)\n",
    "            \n",
    "        if self.metryka==\"cos\":\n",
    "            scores = (self.encoded_corpus @ enc.T).toarray().ravel()\n",
    "        elif self.metryka==\"euklides\":\n",
    "            scores= -np.sqrt(np.array((self.encoded_corpus.tocsr() -\n",
    "                sparse.csr_matrix(np.ones((self.encoded_corpus.shape[0],1))).dot(enc)).power(2).sum(1))).ravel()\n",
    "        else:\n",
    "            raise RuntimeError(\"Błędna metryka.\")\n",
    "        top_idx = scores.argsort()[-10:]\n",
    "        return [self.responses[idx] for idx in top_idx]"
   ]
  },
  {
   "cell_type": "markdown",
   "metadata": {},
   "source": [
    "#### Ogległość cosinusów"
   ]
  },
  {
   "cell_type": "markdown",
   "metadata": {},
   "source": [
    "###### Bez normalizacji"
   ]
  },
  {
   "cell_type": "code",
   "execution_count": 166,
   "metadata": {},
   "outputs": [],
   "source": [
    "d=Dialog(encodings, encoder, responses)"
   ]
  },
  {
   "cell_type": "code",
   "execution_count": 21,
   "metadata": {},
   "outputs": [
    {
     "data": {
      "text/plain": [
       "'Yes, python.'"
      ]
     },
     "execution_count": 21,
     "metadata": {},
     "output_type": "execute_result"
    }
   ],
   "source": [
    "d.krokDialogu(\"C++ is best language\")"
   ]
  },
  {
   "cell_type": "code",
   "execution_count": 25,
   "metadata": {},
   "outputs": [
    {
     "data": {
      "text/plain": [
       "'This kind of commentary is not welcome.'"
      ]
     },
     "execution_count": 25,
     "metadata": {},
     "output_type": "execute_result"
    }
   ],
   "source": [
    "d.krokDialogu(\"But i have said that C++ is best.\")"
   ]
  },
  {
   "cell_type": "code",
   "execution_count": 26,
   "metadata": {},
   "outputs": [
    {
     "data": {
      "text/plain": [
       "'One neuron dying off is much more probable than a fatal heart condition.'"
      ]
     },
     "execution_count": 26,
     "metadata": {},
     "output_type": "execute_result"
    }
   ],
   "source": [
    "d.krokDialogu(\"Why i can not like c++?\")"
   ]
  },
  {
   "cell_type": "code",
   "execution_count": 167,
   "metadata": {},
   "outputs": [
    {
     "data": {
      "text/plain": [
       "['I can see how that would work for stateless services.',\n",
       " 'You continue to be amazed?',\n",
       " 'Yes, python.',\n",
       " 'Is there some language where [4,6] is the output?',\n",
       " 'Go websites are essentially long running processes.',\n",
       " \"I'm not sure either.\",\n",
       " 'and that type is the string.',\n",
       " 'The last two points are extremely debatable.',\n",
       " 'This.',\n",
       " 'This make a lot of sense to me.']"
      ]
     },
     "execution_count": 167,
     "metadata": {},
     "output_type": "execute_result"
    }
   ],
   "source": [
    "d.zwrocNajlepszeOdpowiedzi(\"C++ is best language\")"
   ]
  },
  {
   "cell_type": "markdown",
   "metadata": {},
   "source": [
    "###### Z normalizacją (jednak nie wprowadza ona dużej różnicy)"
   ]
  },
  {
   "cell_type": "code",
   "execution_count": 168,
   "metadata": {},
   "outputs": [],
   "source": [
    "d=Dialog(encodings, encoder, responses, normalize=True)"
   ]
  },
  {
   "cell_type": "code",
   "execution_count": 32,
   "metadata": {},
   "outputs": [
    {
     "data": {
      "text/plain": [
       "'Yes, python.'"
      ]
     },
     "execution_count": 32,
     "metadata": {},
     "output_type": "execute_result"
    }
   ],
   "source": [
    "d.krokDialogu(\"C++ is best language\")"
   ]
  },
  {
   "cell_type": "code",
   "execution_count": 37,
   "metadata": {},
   "outputs": [
    {
     "data": {
      "text/plain": [
       "'This kind of commentary is not welcome.'"
      ]
     },
     "execution_count": 37,
     "metadata": {},
     "output_type": "execute_result"
    }
   ],
   "source": [
    "d.krokDialogu(\"But i have said that C++ is best.\")"
   ]
  },
  {
   "cell_type": "code",
   "execution_count": 43,
   "metadata": {},
   "outputs": [
    {
     "data": {
      "text/plain": [
       "'One neuron dying off is much more probable than a fatal heart condition.'"
      ]
     },
     "execution_count": 43,
     "metadata": {},
     "output_type": "execute_result"
    }
   ],
   "source": [
    "d.krokDialogu(\"Why i can not like c++?\")"
   ]
  },
  {
   "cell_type": "code",
   "execution_count": 169,
   "metadata": {},
   "outputs": [
    {
     "data": {
      "text/plain": [
       "['I can see how that would work for stateless services.',\n",
       " 'You continue to be amazed?',\n",
       " 'Yes, python.',\n",
       " 'Is there some language where [4,6] is the output?',\n",
       " 'Go websites are essentially long running processes.',\n",
       " \"I'm not sure either.\",\n",
       " 'and that type is the string.',\n",
       " 'The last two points are extremely debatable.',\n",
       " 'This.',\n",
       " 'This make a lot of sense to me.']"
      ]
     },
     "execution_count": 169,
     "metadata": {},
     "output_type": "execute_result"
    }
   ],
   "source": [
    "d.zwrocNajlepszeOdpowiedzi(\"C++ is best language\")"
   ]
  },
  {
   "cell_type": "markdown",
   "metadata": {},
   "source": [
    "###### Inne odpowiedzi"
   ]
  },
  {
   "cell_type": "code",
   "execution_count": 35,
   "metadata": {},
   "outputs": [
    {
     "data": {
      "text/plain": [
       "'The big clue was missing definite articles (a, the, etc.)'"
      ]
     },
     "execution_count": 35,
     "metadata": {},
     "output_type": "execute_result"
    }
   ],
   "source": [
    "d.krokDialogu(\"But i have said that C++ is best.\")"
   ]
  },
  {
   "cell_type": "code",
   "execution_count": 38,
   "metadata": {},
   "outputs": [
    {
     "data": {
      "text/plain": [
       "'I laughed heartedly thinking this is sarcasm.'"
      ]
     },
     "execution_count": 38,
     "metadata": {},
     "output_type": "execute_result"
    }
   ],
   "source": [
    "d.krokDialogu(\"Why i can not like c++?\")"
   ]
  },
  {
   "cell_type": "markdown",
   "metadata": {},
   "source": [
    "#### Odległość euklidesowa"
   ]
  },
  {
   "cell_type": "code",
   "execution_count": 476,
   "metadata": {},
   "outputs": [],
   "source": [
    "d=Dialog(encodings, encoder, responses, normalize=False, metryka=\"euklides\")"
   ]
  },
  {
   "cell_type": "code",
   "execution_count": 482,
   "metadata": {},
   "outputs": [
    {
     "data": {
      "text/plain": [
       "'Is there some language where [4,6] is the output?'"
      ]
     },
     "execution_count": 482,
     "metadata": {},
     "output_type": "execute_result"
    }
   ],
   "source": [
    "d.krokDialogu(\"C++ is best language\")"
   ]
  },
  {
   "cell_type": "code",
   "execution_count": 483,
   "metadata": {},
   "outputs": [
    {
     "data": {
      "text/plain": [
       "\"Why's that?\""
      ]
     },
     "execution_count": 483,
     "metadata": {},
     "output_type": "execute_result"
    }
   ],
   "source": [
    "d.krokDialogu(\"But i have said that C++ is best.\")"
   ]
  },
  {
   "cell_type": "code",
   "execution_count": 484,
   "metadata": {},
   "outputs": [
    {
     "data": {
      "text/plain": [
       "'Why would you ever need uncompressed bitmaps?'"
      ]
     },
     "execution_count": 484,
     "metadata": {},
     "output_type": "execute_result"
    }
   ],
   "source": [
    "d.krokDialogu(\"Why i can not like c++?\")"
   ]
  },
  {
   "cell_type": "code",
   "execution_count": 480,
   "metadata": {},
   "outputs": [
    {
     "data": {
      "text/plain": [
       "['You continue to be amazed?',\n",
       " 'I can see how that would work for stateless services.',\n",
       " 'Yes, python.',\n",
       " 'Is there some language where [4,6] is the output?',\n",
       " \"I'm not sure either.\",\n",
       " 'Go websites are essentially long running processes.',\n",
       " 'and that type is the string.',\n",
       " 'The last two points are extremely debatable.',\n",
       " 'This.',\n",
       " 'This make a lot of sense to me.']"
      ]
     },
     "execution_count": 480,
     "metadata": {},
     "output_type": "execute_result"
    }
   ],
   "source": [
    "d.zwrocNajlepszeOdpowiedzi(\"C++ is best language\")"
   ]
  },
  {
   "cell_type": "markdown",
   "metadata": {},
   "source": [
    "###### Inne odpowiedzi"
   ]
  },
  {
   "cell_type": "code",
   "execution_count": 493,
   "metadata": {},
   "outputs": [
    {
     "data": {
      "text/plain": [
       "'and that type is the string.'"
      ]
     },
     "execution_count": 493,
     "metadata": {},
     "output_type": "execute_result"
    }
   ],
   "source": [
    "d.krokDialogu(\"C++ is best language\")"
   ]
  },
  {
   "cell_type": "code",
   "execution_count": 491,
   "metadata": {},
   "outputs": [
    {
     "data": {
      "text/plain": [
       "'That\\'s less a \"rationale\" and more a \"cause,\" though.'"
      ]
     },
     "execution_count": 491,
     "metadata": {},
     "output_type": "execute_result"
    }
   ],
   "source": [
    "d.krokDialogu(\"But i have said that C++ is best.\")"
   ]
  },
  {
   "cell_type": "code",
   "execution_count": 492,
   "metadata": {},
   "outputs": [
    {
     "data": {
      "text/plain": [
       "\"I'm in the neighborhood and have been thinking about making the trip.\""
      ]
     },
     "execution_count": 492,
     "metadata": {},
     "output_type": "execute_result"
    }
   ],
   "source": [
    "d.krokDialogu(\"Why i can not like c++?\")"
   ]
  },
  {
   "cell_type": "markdown",
   "metadata": {},
   "source": [
    "##### Z normalizacją"
   ]
  },
  {
   "cell_type": "code",
   "execution_count": 494,
   "metadata": {},
   "outputs": [],
   "source": [
    "d=Dialog(encodings, encoder, responses, normalize=True, metryka=\"euklides\")"
   ]
  },
  {
   "cell_type": "code",
   "execution_count": 495,
   "metadata": {},
   "outputs": [
    {
     "data": {
      "text/plain": [
       "'Is there some language where [4,6] is the output?'"
      ]
     },
     "execution_count": 495,
     "metadata": {},
     "output_type": "execute_result"
    }
   ],
   "source": [
    "d.krokDialogu(\"C++ is best language\")"
   ]
  },
  {
   "cell_type": "code",
   "execution_count": 496,
   "metadata": {},
   "outputs": [
    {
     "data": {
      "text/plain": [
       "'Thank you for writing out such a detailed and insightful reply.'"
      ]
     },
     "execution_count": 496,
     "metadata": {},
     "output_type": "execute_result"
    }
   ],
   "source": [
    "d.krokDialogu(\"But i have said that C++ is best.\")"
   ]
  },
  {
   "cell_type": "code",
   "execution_count": 499,
   "metadata": {},
   "outputs": [
    {
     "data": {
      "text/plain": [
       "\"The same reason unicorns and fairies don't exist.\""
      ]
     },
     "execution_count": 499,
     "metadata": {},
     "output_type": "execute_result"
    }
   ],
   "source": [
    "d.krokDialogu(\"Why i can not like c++?\")"
   ]
  },
  {
   "cell_type": "code",
   "execution_count": 498,
   "metadata": {},
   "outputs": [
    {
     "data": {
      "text/plain": [
       "['Smalltalk.',\n",
       " 'I can see how that would work for stateless services.',\n",
       " 'Is there some language where [4,6] is the output?',\n",
       " 'Yes, python.',\n",
       " 'Go websites are essentially long running processes.',\n",
       " 'and that type is the string.',\n",
       " \"I'm not sure either.\",\n",
       " 'This make a lot of sense to me.',\n",
       " 'This.',\n",
       " 'The last two points are extremely debatable.']"
      ]
     },
     "execution_count": 498,
     "metadata": {},
     "output_type": "execute_result"
    }
   ],
   "source": [
    "d.zwrocNajlepszeOdpowiedzi(\"C++ is best language\")"
   ]
  },
  {
   "cell_type": "markdown",
   "metadata": {},
   "source": [
    "###### Inne odpowiedzi"
   ]
  },
  {
   "cell_type": "code",
   "execution_count": 497,
   "metadata": {},
   "outputs": [
    {
     "data": {
      "text/plain": [
       "'I used to occasionally game banks for their account sign-up bonuses.'"
      ]
     },
     "execution_count": 497,
     "metadata": {},
     "output_type": "execute_result"
    }
   ],
   "source": [
    "d.krokDialogu(\"Why i can not like c++?\")"
   ]
  },
  {
   "cell_type": "markdown",
   "metadata": {},
   "source": [
    "#### Inna tokenizacja"
   ]
  },
  {
   "cell_type": "code",
   "execution_count": 174,
   "metadata": {},
   "outputs": [
    {
     "name": "stderr",
     "output_type": "stream",
     "text": [
      "<ipython-input-165-16bb5b082a14>:18: RuntimeWarning: divide by zero encountered in true_divide\n",
      "  encodings = encodings.multiply(1.0 / norms)\n"
     ]
    }
   ],
   "source": [
    "encoder = OneHotEncoder(prompts, token_pattern=r\"(?u)\\b\\S\\S+\\b\")\n",
    "encodings = encoder.encode_corpus(prompts)"
   ]
  },
  {
   "cell_type": "code",
   "execution_count": 175,
   "metadata": {},
   "outputs": [],
   "source": [
    "d=Dialog(encodings, encoder, responses, normalize=True, metryka=\"euklides\")"
   ]
  },
  {
   "cell_type": "code",
   "execution_count": 154,
   "metadata": {},
   "outputs": [
    {
     "data": {
      "text/plain": [
       "\"Whoops, you're right.\""
      ]
     },
     "execution_count": 154,
     "metadata": {},
     "output_type": "execute_result"
    }
   ],
   "source": [
    "d.krokDialogu(\"C++ is best language\")"
   ]
  },
  {
   "cell_type": "code",
   "execution_count": 156,
   "metadata": {},
   "outputs": [
    {
     "data": {
      "text/plain": [
       "'You can re-phrase it and use that anywhere.'"
      ]
     },
     "execution_count": 156,
     "metadata": {},
     "output_type": "execute_result"
    }
   ],
   "source": [
    "d.krokDialogu(\"But i have said that C++ is best.\")"
   ]
  },
  {
   "cell_type": "code",
   "execution_count": 163,
   "metadata": {},
   "outputs": [
    {
     "data": {
      "text/plain": [
       "'Agreed.'"
      ]
     },
     "execution_count": 163,
     "metadata": {},
     "output_type": "execute_result"
    }
   ],
   "source": [
    "d.krokDialogu(\"Why i can not like c++?\")"
   ]
  },
  {
   "cell_type": "code",
   "execution_count": 176,
   "metadata": {},
   "outputs": [
    {
     "data": {
      "text/plain": [
       "['The alternative to crashing is exiting cleanly with an error.',\n",
       " 'There is nothing wrong with crashing if you can do it in a \"safe\" manner.',\n",
       " 'Video can often come from a less than perfectly reliable source (eg.',\n",
       " \"It's built into many products and workflows that accept user submitted content.\",\n",
       " \"What's yield on green?\",\n",
       " 'Or even just the  size  of the source code!',\n",
       " \"Whoops, you're right.\",\n",
       " 'They are: 1.',\n",
       " 'Sorry, I had hoped the rest of my comment would make my intention clear.',\n",
       " 'Embrace it and see how society will change from it.']"
      ]
     },
     "execution_count": 176,
     "metadata": {},
     "output_type": "execute_result"
    }
   ],
   "source": [
    "d.zwrocNajlepszeOdpowiedzi(\"C++ is best language\")"
   ]
  },
  {
   "cell_type": "markdown",
   "metadata": {},
   "source": [
    "###### Inne odpowiedzi"
   ]
  },
  {
   "cell_type": "code",
   "execution_count": 159,
   "metadata": {},
   "outputs": [
    {
     "data": {
      "text/plain": [
       "\"You're confusing the math with the reason they stop taking external funds.\""
      ]
     },
     "execution_count": 159,
     "metadata": {},
     "output_type": "execute_result"
    }
   ],
   "source": [
    "d.krokDialogu(\"Why i can not like c++?\")"
   ]
  },
  {
   "cell_type": "code",
   "execution_count": 161,
   "metadata": {},
   "outputs": [
    {
     "data": {
      "text/plain": [
       "'Go exercise somewhere outside.'"
      ]
     },
     "execution_count": 161,
     "metadata": {},
     "output_type": "execute_result"
    }
   ],
   "source": [
    "d.krokDialogu(\"But i have said that C++ is best.\")"
   ]
  },
  {
   "cell_type": "code",
   "execution_count": 148,
   "metadata": {},
   "outputs": [
    {
     "data": {
      "text/plain": [
       "'The alternative to crashing is exiting cleanly with an error.'"
      ]
     },
     "execution_count": 148,
     "metadata": {},
     "output_type": "execute_result"
    }
   ],
   "source": [
    "d.krokDialogu(\"C++ is best language\")"
   ]
  },
  {
   "cell_type": "code",
   "execution_count": 147,
   "metadata": {},
   "outputs": [
    {
     "data": {
      "text/plain": [
       "\"What's yield on green?\""
      ]
     },
     "execution_count": 147,
     "metadata": {},
     "output_type": "execute_result"
    }
   ],
   "source": [
    "d.krokDialogu(\"C++ is best language\")"
   ]
  },
  {
   "cell_type": "markdown",
   "metadata": {},
   "source": [
    "### Word2vec"
   ]
  },
  {
   "cell_type": "code",
   "execution_count": 500,
   "metadata": {
    "id": "aOYvQnpBwvvG"
   },
   "outputs": [],
   "source": [
    "class Word2VecEncoder(BasicEncoder):\n",
    "    def __init__(self, vecs):\n",
    "        self._vecs = vecs\n",
    "\n",
    "    def _get_vec(self, word):\n",
    "        # Find the vector for word, or use a suitbale out-of-vocabulary vector\n",
    "        # For extra points try backing off to a lowercased dictionary\n",
    "        #print(word, word in self._vecs.word2idx)\n",
    "        if word in self._vecs.word2idx:\n",
    "            return self._vecs.vec[self._vecs.word2idx[word]]\n",
    "        else:\n",
    "            return 0\n",
    "\n",
    "    def encode(self, sentence):\n",
    "        ret = np.zeros(self._vecs.vec.shape[1])\n",
    "        for token in nltk.tokenize.word_tokenize(sentence):\n",
    "            word_vec = self._get_vec(token)\n",
    "            ret += word_vec\n",
    "            #print(ret)\n",
    "        ret /= (np.linalg.norm(ret) + 1e-5)\n",
    "        #print(ret)\n",
    "        return ret\n",
    "\n",
    "encoder = Word2VecEncoder(word2vec)"
   ]
  },
  {
   "cell_type": "code",
   "execution_count": 501,
   "metadata": {
    "id": "aOYvQnpBwvvG"
   },
   "outputs": [
    {
     "data": {
      "application/vnd.jupyter.widget-view+json": {
       "model_id": "464c5489bce546549995f4abcbcf9053",
       "version_major": 2,
       "version_minor": 0
      },
      "text/plain": [
       "HBox(children=(HTML(value=''), FloatProgress(value=0.0, max=52690.0), HTML(value='')))"
      ]
     },
     "metadata": {},
     "output_type": "display_data"
    },
    {
     "name": "stdout",
     "output_type": "stream",
     "text": [
      "\n"
     ]
    }
   ],
   "source": [
    "encodings = encoder.encode_corpus(prompts)"
   ]
  },
  {
   "cell_type": "code",
   "execution_count": 392,
   "metadata": {
    "id": "7nu0JqmPKcm8"
   },
   "outputs": [],
   "source": [
    "# TODO: build a simple dialogue system using these k-neares neighbor matches, \n",
    "# perform a few test conversations\n",
    "class DialogNP:\n",
    "    def __init__(self, encodings, encoder, responses, normalize=False, metryka=\"cos\", czySrednia=False,\n",
    "                mnoznik=0.5):\n",
    "        self.normalize=normalize\n",
    "        self.encoded_corpus=encodings\n",
    "        self.encoder=encoder\n",
    "        self.responses=responses\n",
    "        self.metryka=metryka\n",
    "        self.czySrednia=czySrednia\n",
    "        self.srednia=None\n",
    "        self.mnoznikSredniej=mnoznik\n",
    "    \n",
    "    def krokDialogu(self, zdanieWejsciowe):\n",
    "        odpowiedzi=self.zwrocNajlepszeOdpowiedzi(zdanieWejsciowe)\n",
    "        idx=np.random.randint(0,len(odpowiedzi))\n",
    "        return odpowiedzi[idx]\n",
    "    \n",
    "    def zwrocNajlepszeOdpowiedzi(self, zdanieWejsciowe):\n",
    "        enc=self.encoder.encode(zdanieWejsciowe)\n",
    "        \n",
    "        if self.normalize:\n",
    "            enc=enc / np.sqrt(np.sum(enc**2))\n",
    "        \n",
    "        if self.czySrednia:\n",
    "            if self.srednia is None:\n",
    "                self.srednia=enc.copy()\n",
    "            else:\n",
    "                self.srednia=self.srednia*self.mnoznikSredniej+(1-self.mnoznikSredniej)*enc\n",
    "                enc=self.srednia.copy()\n",
    "        \n",
    "        if self.metryka==\"cos\":\n",
    "            scores = (self.encoded_corpus @ enc).ravel()\n",
    "        elif self.metryka==\"euklides\":\n",
    "            scores= -np.sqrt(np.sum((self.encoded_corpus -enc)**2,axis=1)).ravel()\n",
    "        else:\n",
    "            raise RuntimeError(\"Błędna metryka.\")\n",
    "        top_idx = scores.argsort()[-10:]\n",
    "        return [self.responses[idx] for idx in top_idx]"
   ]
  },
  {
   "cell_type": "markdown",
   "metadata": {},
   "source": [
    "#### Odległość cosinusów"
   ]
  },
  {
   "cell_type": "code",
   "execution_count": 231,
   "metadata": {},
   "outputs": [],
   "source": [
    "d=DialogNP(encodings, encoder, responses, normalize=True)"
   ]
  },
  {
   "cell_type": "code",
   "execution_count": 234,
   "metadata": {},
   "outputs": [
    {
     "data": {
      "text/plain": [
       "'No.'"
      ]
     },
     "execution_count": 234,
     "metadata": {},
     "output_type": "execute_result"
    }
   ],
   "source": [
    "d.krokDialogu(\"C++ is best language\")"
   ]
  },
  {
   "cell_type": "code",
   "execution_count": 238,
   "metadata": {},
   "outputs": [
    {
     "data": {
      "text/plain": [
       "\"If a whiteboard can be accurately captured digitally, I'd say that it's better.\""
      ]
     },
     "execution_count": 238,
     "metadata": {},
     "output_type": "execute_result"
    }
   ],
   "source": [
    "d.krokDialogu(\"But i have said that C++ is best.\")"
   ]
  },
  {
   "cell_type": "code",
   "execution_count": 239,
   "metadata": {},
   "outputs": [
    {
     "data": {
      "text/plain": [
       "\"It sounds like you've never been a part of a forum or similar a decade ago.\""
      ]
     },
     "execution_count": 239,
     "metadata": {},
     "output_type": "execute_result"
    }
   ],
   "source": [
    "d.krokDialogu(\"Why i can not like c++?\")"
   ]
  },
  {
   "cell_type": "code",
   "execution_count": 237,
   "metadata": {},
   "outputs": [
    {
     "data": {
      "text/plain": [
       "[\"Are you saying that /bin/sh isn't turing complete?\",\n",
       " 'This is 130 lines of code, including whitespace.',\n",
       " \"Yeah, I think you'll need to be more clear about that.\",\n",
       " 'Haskell has decent experimental support for dependent types.',\n",
       " \"Ya, apparently it's been around longer than I thought.\",\n",
       " 'No.',\n",
       " 'Smalltalk.',\n",
       " \"I'm not sure either.\",\n",
       " 'Go websites are essentially long running processes.',\n",
       " 'sorry, what do you mean ?']"
      ]
     },
     "execution_count": 237,
     "metadata": {},
     "output_type": "execute_result"
    }
   ],
   "source": [
    "d.zwrocNajlepszeOdpowiedzi(\"C++ is best language\")"
   ]
  },
  {
   "cell_type": "markdown",
   "metadata": {},
   "source": [
    "#### Odległość euklidesowa"
   ]
  },
  {
   "cell_type": "code",
   "execution_count": 502,
   "metadata": {},
   "outputs": [],
   "source": [
    "d=DialogNP(encodings, encoder, responses, normalize=True, metryka=\"euklides\")"
   ]
  },
  {
   "cell_type": "code",
   "execution_count": 503,
   "metadata": {},
   "outputs": [
    {
     "data": {
      "text/plain": [
       "'Go websites are essentially long running processes.'"
      ]
     },
     "execution_count": 503,
     "metadata": {},
     "output_type": "execute_result"
    }
   ],
   "source": [
    "d.krokDialogu(\"C++ is best language\")"
   ]
  },
  {
   "cell_type": "code",
   "execution_count": 504,
   "metadata": {},
   "outputs": [
    {
     "data": {
      "text/plain": [
       "\"If a whiteboard can be accurately captured digitally, I'd say that it's better.\""
      ]
     },
     "execution_count": 504,
     "metadata": {},
     "output_type": "execute_result"
    }
   ],
   "source": [
    "d.krokDialogu(\"But i have said that C++ is best.\")"
   ]
  },
  {
   "cell_type": "code",
   "execution_count": 507,
   "metadata": {},
   "outputs": [
    {
     "data": {
      "text/plain": [
       "\"It sounds like you've never been a part of a forum or similar a decade ago.\""
      ]
     },
     "execution_count": 507,
     "metadata": {},
     "output_type": "execute_result"
    }
   ],
   "source": [
    "d.krokDialogu(\"Why i can not like c++?\")"
   ]
  },
  {
   "cell_type": "code",
   "execution_count": 506,
   "metadata": {},
   "outputs": [
    {
     "data": {
      "text/plain": [
       "[\"Are you saying that /bin/sh isn't turing complete?\",\n",
       " 'This is 130 lines of code, including whitespace.',\n",
       " \"Yeah, I think you'll need to be more clear about that.\",\n",
       " 'Haskell has decent experimental support for dependent types.',\n",
       " \"Ya, apparently it's been around longer than I thought.\",\n",
       " 'No.',\n",
       " 'Smalltalk.',\n",
       " 'Go websites are essentially long running processes.',\n",
       " \"I'm not sure either.\",\n",
       " 'sorry, what do you mean ?']"
      ]
     },
     "execution_count": 506,
     "metadata": {},
     "output_type": "execute_result"
    }
   ],
   "source": [
    "d.zwrocNajlepszeOdpowiedzi(\"C++ is best language\")"
   ]
  },
  {
   "cell_type": "markdown",
   "metadata": {},
   "source": [
    "### BERT"
   ]
  },
  {
   "cell_type": "code",
   "execution_count": 297,
   "metadata": {},
   "outputs": [],
   "source": [
    "from transformers import BertTokenizer, BertModel"
   ]
  },
  {
   "cell_type": "code",
   "execution_count": 319,
   "metadata": {},
   "outputs": [],
   "source": [
    "tokenizer=BertTokenizer.from_pretrained(\"bert-base-uncased\")\n",
    "bert=BertModel.from_pretrained(\"bert-base-uncased\")"
   ]
  },
  {
   "cell_type": "code",
   "execution_count": 367,
   "metadata": {},
   "outputs": [
    {
     "name": "stdout",
     "output_type": "stream",
     "text": [
      "277 µs ± 11.9 µs per loop (mean ± std. dev. of 7 runs, 1000 loops each)\n"
     ]
    }
   ],
   "source": [
    "%%timeit\n",
    "tokenizer(\"Zimnokrwisty smok pustynny\",return_tensors=\"pt\")"
   ]
  },
  {
   "cell_type": "code",
   "execution_count": 368,
   "metadata": {},
   "outputs": [],
   "source": [
    "T=tokenizer(\"Zimnokrwisty smok pustynny\",return_tensors=\"pt\")"
   ]
  },
  {
   "cell_type": "code",
   "execution_count": 369,
   "metadata": {},
   "outputs": [
    {
     "data": {
      "text/plain": [
       "torch.Size([1, 14])"
      ]
     },
     "execution_count": 369,
     "metadata": {},
     "output_type": "execute_result"
    }
   ],
   "source": [
    "T.input_ids.shape"
   ]
  },
  {
   "cell_type": "code",
   "execution_count": 370,
   "metadata": {
    "scrolled": false
   },
   "outputs": [
    {
     "name": "stdout",
     "output_type": "stream",
     "text": [
      "82.4 ms ± 44.9 µs per loop (mean ± std. dev. of 7 runs, 10 loops each)\n"
     ]
    }
   ],
   "source": [
    "%%timeit\n",
    "bert(**T)"
   ]
  },
  {
   "cell_type": "code",
   "execution_count": 328,
   "metadata": {},
   "outputs": [],
   "source": [
    "S2=np.sum(np.array(out.last_hidden_state.detach()), axis=(0,1))"
   ]
  },
  {
   "cell_type": "code",
   "execution_count": 324,
   "metadata": {},
   "outputs": [],
   "source": [
    "S=np.sum(np.array(out.last_hidden_state.detach()), axis=(0,1))"
   ]
  },
  {
   "cell_type": "code",
   "execution_count": 330,
   "metadata": {},
   "outputs": [
    {
     "data": {
      "text/plain": [
       "False"
      ]
     },
     "execution_count": 330,
     "metadata": {},
     "output_type": "execute_result"
    }
   ],
   "source": [
    "np.allclose(S,S2)"
   ]
  },
  {
   "cell_type": "code",
   "execution_count": 303,
   "metadata": {
    "id": "aOYvQnpBwvvG"
   },
   "outputs": [],
   "source": [
    "class BertEncoder(BasicEncoder):\n",
    "    def __init__(self):\n",
    "        self.tokenizer=BertTokenizer.from_pretrained(\"bert-base-uncased\")\n",
    "        self.bert=BertModel.from_pretrained(\"bert-base-uncased\")\n",
    "\n",
    "    def encode(self, sentence):\n",
    "        tokens=self.tokenizer(sentence, return_tensors=\"pt\")\n",
    "        out=bert(**tokens)\n",
    "        ret=np.sum(np.array(out.last_hidden_state.detach()), axis=1)\n",
    "        ret /= (np.linalg.norm(ret) + 1e-5)\n",
    "        return ret\n",
    "    \n",
    "encoder = BertEncoder()"
   ]
  },
  {
   "cell_type": "code",
   "execution_count": 304,
   "metadata": {
    "id": "aOYvQnpBwvvG"
   },
   "outputs": [
    {
     "data": {
      "application/vnd.jupyter.widget-view+json": {
       "model_id": "648ccf4ff1d644f086b2165932c335d3",
       "version_major": 2,
       "version_minor": 0
      },
      "text/plain": [
       "HBox(children=(HTML(value=''), FloatProgress(value=0.0, max=52690.0), HTML(value='')))"
      ]
     },
     "metadata": {},
     "output_type": "display_data"
    },
    {
     "name": "stdout",
     "output_type": "stream",
     "text": [
      "\n"
     ]
    }
   ],
   "source": [
    "encodings = encoder.encode_corpus(prompts)"
   ]
  },
  {
   "cell_type": "code",
   "execution_count": 373,
   "metadata": {},
   "outputs": [],
   "source": [
    "encodings_copy=encodings.copy()"
   ]
  },
  {
   "cell_type": "code",
   "execution_count": 381,
   "metadata": {},
   "outputs": [],
   "source": [
    "encodings /= (np.linalg.norm(encodings, axis=1, keepdims=True) + 1e-5)"
   ]
  },
  {
   "cell_type": "markdown",
   "metadata": {},
   "source": [
    "#### Odległość cosinusowa"
   ]
  },
  {
   "cell_type": "code",
   "execution_count": 403,
   "metadata": {},
   "outputs": [],
   "source": [
    "d=DialogNP(encodings, encoder, responses, normalize=False, metryka=\"cos\")"
   ]
  },
  {
   "cell_type": "code",
   "execution_count": 404,
   "metadata": {},
   "outputs": [
    {
     "data": {
      "text/plain": [
       "'Are you suggesting those as counterexamples?'"
      ]
     },
     "execution_count": 404,
     "metadata": {},
     "output_type": "execute_result"
    }
   ],
   "source": [
    "d.krokDialogu(\"C++ is best language\")"
   ]
  },
  {
   "cell_type": "code",
   "execution_count": 412,
   "metadata": {},
   "outputs": [
    {
     "data": {
      "text/plain": [
       "\"It's quite likely that C++ code rendered this web page for you.\""
      ]
     },
     "execution_count": 412,
     "metadata": {},
     "output_type": "execute_result"
    }
   ],
   "source": [
    "d.krokDialogu(\"But i have said that C++ is best.\")"
   ]
  },
  {
   "cell_type": "code",
   "execution_count": 406,
   "metadata": {},
   "outputs": [
    {
     "data": {
      "text/plain": [
       "'Came here to say this.'"
      ]
     },
     "execution_count": 406,
     "metadata": {},
     "output_type": "execute_result"
    }
   ],
   "source": [
    "d.krokDialogu(\"Why i can not like c++?\")"
   ]
  },
  {
   "cell_type": "code",
   "execution_count": 407,
   "metadata": {},
   "outputs": [
    {
     "data": {
      "text/plain": [
       "['Reference counting steal cycles all over the place.',\n",
       " \"I couldn't agree more.\",\n",
       " 'Exactly!',\n",
       " 'Are you suggesting those as counterexamples?',\n",
       " 'Visual C++ came after regular C++',\n",
       " 'C and C++ have both passed the threshold of immortality.',\n",
       " 'Yet whole applications are written around it and they work perfectly well.',\n",
       " 'As if longjmp and c++ exceptions are the only two ways to go.',\n",
       " 'Exactly.',\n",
       " 'Yes.']"
      ]
     },
     "execution_count": 407,
     "metadata": {},
     "output_type": "execute_result"
    }
   ],
   "source": [
    "d.zwrocNajlepszeOdpowiedzi(\"C++ is best language\")"
   ]
  },
  {
   "cell_type": "markdown",
   "metadata": {},
   "source": [
    "###### Normalizacja"
   ]
  },
  {
   "cell_type": "code",
   "execution_count": 413,
   "metadata": {},
   "outputs": [],
   "source": [
    "d=DialogNP(encodings, encoder, responses, normalize=True, metryka=\"cos\")"
   ]
  },
  {
   "cell_type": "code",
   "execution_count": 414,
   "metadata": {},
   "outputs": [
    {
     "data": {
      "text/plain": [
       "'C and C++ have both passed the threshold of immortality.'"
      ]
     },
     "execution_count": 414,
     "metadata": {},
     "output_type": "execute_result"
    }
   ],
   "source": [
    "d.krokDialogu(\"C++ is best language\")"
   ]
  },
  {
   "cell_type": "code",
   "execution_count": 415,
   "metadata": {},
   "outputs": [
    {
     "data": {
      "text/plain": [
       "'Desktop applications requiring high performance also use C++.'"
      ]
     },
     "execution_count": 415,
     "metadata": {},
     "output_type": "execute_result"
    }
   ],
   "source": [
    "d.krokDialogu(\"But i have said that C++ is best.\")"
   ]
  },
  {
   "cell_type": "code",
   "execution_count": 416,
   "metadata": {},
   "outputs": [
    {
     "data": {
      "text/plain": [
       "'Probably because of the relative evangelism levels.'"
      ]
     },
     "execution_count": 416,
     "metadata": {},
     "output_type": "execute_result"
    }
   ],
   "source": [
    "d.krokDialogu(\"Why i can not like c++?\")"
   ]
  },
  {
   "cell_type": "code",
   "execution_count": 417,
   "metadata": {},
   "outputs": [
    {
     "data": {
      "text/plain": [
       "['Reference counting steal cycles all over the place.',\n",
       " \"I couldn't agree more.\",\n",
       " 'Exactly!',\n",
       " 'Are you suggesting those as counterexamples?',\n",
       " 'Visual C++ came after regular C++',\n",
       " 'C and C++ have both passed the threshold of immortality.',\n",
       " 'Yet whole applications are written around it and they work perfectly well.',\n",
       " 'As if longjmp and c++ exceptions are the only two ways to go.',\n",
       " 'Exactly.',\n",
       " 'Yes.']"
      ]
     },
     "execution_count": 417,
     "metadata": {},
     "output_type": "execute_result"
    }
   ],
   "source": [
    "d.zwrocNajlepszeOdpowiedzi(\"C++ is best language\")"
   ]
  },
  {
   "cell_type": "markdown",
   "metadata": {},
   "source": [
    "#### Odległość euklidesowska"
   ]
  },
  {
   "cell_type": "code",
   "execution_count": 394,
   "metadata": {},
   "outputs": [],
   "source": [
    "d=DialogNP(encodings, encoder, responses, normalize=False, metryka=\"euklides\")"
   ]
  },
  {
   "cell_type": "code",
   "execution_count": 398,
   "metadata": {},
   "outputs": [
    {
     "data": {
      "text/plain": [
       "'Are you suggesting those as counterexamples?'"
      ]
     },
     "execution_count": 398,
     "metadata": {},
     "output_type": "execute_result"
    }
   ],
   "source": [
    "d.krokDialogu(\"C++ is best language\")"
   ]
  },
  {
   "cell_type": "code",
   "execution_count": 399,
   "metadata": {},
   "outputs": [
    {
     "data": {
      "text/plain": [
       "'I agree with you.'"
      ]
     },
     "execution_count": 399,
     "metadata": {},
     "output_type": "execute_result"
    }
   ],
   "source": [
    "d.krokDialogu(\"But i have said that C++ is best.\")"
   ]
  },
  {
   "cell_type": "code",
   "execution_count": 400,
   "metadata": {},
   "outputs": [
    {
     "data": {
      "text/plain": [
       "'Probably because of the relative evangelism levels.'"
      ]
     },
     "execution_count": 400,
     "metadata": {},
     "output_type": "execute_result"
    }
   ],
   "source": [
    "d.krokDialogu(\"Why i can not like c++?\")"
   ]
  },
  {
   "cell_type": "code",
   "execution_count": 401,
   "metadata": {},
   "outputs": [
    {
     "data": {
      "text/plain": [
       "['Reference counting steal cycles all over the place.',\n",
       " \"I couldn't agree more.\",\n",
       " 'Exactly!',\n",
       " 'Are you suggesting those as counterexamples?',\n",
       " 'Visual C++ came after regular C++',\n",
       " 'C and C++ have both passed the threshold of immortality.',\n",
       " 'As if longjmp and c++ exceptions are the only two ways to go.',\n",
       " 'Yet whole applications are written around it and they work perfectly well.',\n",
       " 'Exactly.',\n",
       " 'Yes.']"
      ]
     },
     "execution_count": 401,
     "metadata": {},
     "output_type": "execute_result"
    }
   ],
   "source": [
    "d.zwrocNajlepszeOdpowiedzi(\"C++ is best language\")"
   ]
  },
  {
   "cell_type": "code",
   "execution_count": 418,
   "metadata": {},
   "outputs": [],
   "source": [
    "d=DialogNP(encodings, encoder, responses, normalize=True, metryka=\"euklides\")"
   ]
  },
  {
   "cell_type": "code",
   "execution_count": 419,
   "metadata": {},
   "outputs": [
    {
     "data": {
      "text/plain": [
       "['Immediate cleanup is not necessarily an advantage.',\n",
       " \"I couldn't agree more.\",\n",
       " 'Exactly!',\n",
       " 'Are you suggesting those as counterexamples?',\n",
       " 'Visual C++ came after regular C++',\n",
       " 'C and C++ have both passed the threshold of immortality.',\n",
       " 'Yet whole applications are written around it and they work perfectly well.',\n",
       " 'As if longjmp and c++ exceptions are the only two ways to go.',\n",
       " 'Exactly.',\n",
       " 'Yes.']"
      ]
     },
     "execution_count": 419,
     "metadata": {},
     "output_type": "execute_result"
    }
   ],
   "source": [
    "d.zwrocNajlepszeOdpowiedzi(\"C++ is best language\")"
   ]
  },
  {
   "cell_type": "markdown",
   "metadata": {},
   "source": [
    "#### Zapamiętywanie średniej kroczącej"
   ]
  },
  {
   "cell_type": "code",
   "execution_count": 440,
   "metadata": {},
   "outputs": [],
   "source": [
    "d=DialogNP(encodings, encoder, responses, normalize=False, metryka=\"euklides\", czySrednia=True)"
   ]
  },
  {
   "cell_type": "code",
   "execution_count": 441,
   "metadata": {},
   "outputs": [
    {
     "data": {
      "text/plain": [
       "'Yes.'"
      ]
     },
     "execution_count": 441,
     "metadata": {},
     "output_type": "execute_result"
    }
   ],
   "source": [
    "d.krokDialogu(\"C++ is best language\")"
   ]
  },
  {
   "cell_type": "code",
   "execution_count": 442,
   "metadata": {},
   "outputs": [
    {
     "data": {
      "text/plain": [
       "'Exactly.'"
      ]
     },
     "execution_count": 442,
     "metadata": {},
     "output_type": "execute_result"
    }
   ],
   "source": [
    "d.krokDialogu(\"But i have said that C++ is best.\")"
   ]
  },
  {
   "cell_type": "code",
   "execution_count": 443,
   "metadata": {},
   "outputs": [
    {
     "data": {
      "text/plain": [
       "'I agree, especially for mere mortals.'"
      ]
     },
     "execution_count": 443,
     "metadata": {},
     "output_type": "execute_result"
    }
   ],
   "source": [
    "d.krokDialogu(\"Why i can not like c++?\")"
   ]
  },
  {
   "cell_type": "code",
   "execution_count": 444,
   "metadata": {},
   "outputs": [
    {
     "data": {
      "text/plain": [
       "['I agree, especially for mere mortals.',\n",
       " 'Came here to say this.',\n",
       " 'I agree with you.',\n",
       " 'clang-tidy will fix (some?)',\n",
       " 'Exactly!',\n",
       " \"I couldn't agree more.\",\n",
       " 'Yet whole applications are written around it and they work perfectly well.',\n",
       " 'As if longjmp and c++ exceptions are the only two ways to go.',\n",
       " 'Yes.',\n",
       " 'Exactly.']"
      ]
     },
     "execution_count": 444,
     "metadata": {},
     "output_type": "execute_result"
    }
   ],
   "source": [
    "d.zwrocNajlepszeOdpowiedzi(\"C++ is best language\")"
   ]
  },
  {
   "cell_type": "code",
   "execution_count": 450,
   "metadata": {},
   "outputs": [],
   "source": [
    "d=DialogNP(encodings, encoder, responses, normalize=False, metryka=\"cos\", czySrednia=True)"
   ]
  },
  {
   "cell_type": "code",
   "execution_count": 451,
   "metadata": {},
   "outputs": [
    {
     "data": {
      "text/plain": [
       "'As if longjmp and c++ exceptions are the only two ways to go.'"
      ]
     },
     "execution_count": 451,
     "metadata": {},
     "output_type": "execute_result"
    }
   ],
   "source": [
    "d.krokDialogu(\"C++ is best language\")"
   ]
  },
  {
   "cell_type": "code",
   "execution_count": 452,
   "metadata": {},
   "outputs": [
    {
     "data": {
      "text/plain": [
       "'Many, if not most desktop applications are written in C++.'"
      ]
     },
     "execution_count": 452,
     "metadata": {},
     "output_type": "execute_result"
    }
   ],
   "source": [
    "d.krokDialogu(\"But i have said that C++ is best.\")"
   ]
  },
  {
   "cell_type": "code",
   "execution_count": 453,
   "metadata": {},
   "outputs": [
    {
     "data": {
      "text/plain": [
       "'Came here to say this.'"
      ]
     },
     "execution_count": 453,
     "metadata": {},
     "output_type": "execute_result"
    }
   ],
   "source": [
    "d.krokDialogu(\"Why i can not like c++?\")"
   ]
  },
  {
   "cell_type": "code",
   "execution_count": 454,
   "metadata": {},
   "outputs": [
    {
     "data": {
      "text/plain": [
       "['Came here to say this.',\n",
       " 'I agree, especially for mere mortals.',\n",
       " 'I agree with you.',\n",
       " 'clang-tidy will fix (some?)',\n",
       " 'Exactly!',\n",
       " \"I couldn't agree more.\",\n",
       " 'As if longjmp and c++ exceptions are the only two ways to go.',\n",
       " 'Yet whole applications are written around it and they work perfectly well.',\n",
       " 'Yes.',\n",
       " 'Exactly.']"
      ]
     },
     "execution_count": 454,
     "metadata": {},
     "output_type": "execute_result"
    }
   ],
   "source": [
    "d.zwrocNajlepszeOdpowiedzi(\"C++ is best language\")"
   ]
  },
  {
   "cell_type": "markdown",
   "metadata": {},
   "source": [
    "### Grupowanie odpowiedzi"
   ]
  },
  {
   "cell_type": "code",
   "execution_count": 455,
   "metadata": {},
   "outputs": [],
   "source": [
    "from sklearn.cluster import KMeans"
   ]
  },
  {
   "cell_type": "code",
   "execution_count": 461,
   "metadata": {},
   "outputs": [],
   "source": [
    "# TODO: build a simple dialogue system using these k-neares neighbor matches, \n",
    "# perform a few test conversations\n",
    "class DialogNP:\n",
    "    def __init__(self, encodings, encoder, responses, normalize=False, metryka=\"cos\", czySrednia=False,\n",
    "                mnoznik=0.5, czyGrupowanie=False):\n",
    "        self.normalize=normalize\n",
    "        self.encoded_corpus=encodings\n",
    "        self.encoder=encoder\n",
    "        self.responses=responses\n",
    "        self.metryka=metryka\n",
    "        self.czySrednia=czySrednia\n",
    "        self.srednia=None\n",
    "        self.mnoznikSredniej=mnoznik\n",
    "        self.czyGrupowanie=czyGrupowanie\n",
    "    \n",
    "    def krokDialogu(self, zdanieWejsciowe):\n",
    "        odpowiedzi=self.zwrocNajlepszeOdpowiedzi(zdanieWejsciowe)\n",
    "        if self.czyGrupowanie:\n",
    "            return self.grupowanieOdpowiedzi(odpowiedzi)\n",
    "        else:\n",
    "            idx=np.random.randint(0,len(odpowiedzi))\n",
    "            return odpowiedzi[idx]\n",
    "    \n",
    "    def zwrocNajlepszeOdpowiedzi(self, zdanieWejsciowe):\n",
    "        enc=self.encoder.encode(zdanieWejsciowe)\n",
    "        \n",
    "        if self.normalize:\n",
    "            enc=enc / np.sqrt(np.sum(enc**2))\n",
    "        \n",
    "        if self.czySrednia:\n",
    "            if self.srednia is None:\n",
    "                self.srednia=enc.copy()\n",
    "            else:\n",
    "                self.srednia=self.srednia*self.mnoznikSredniej+(1-self.mnoznikSredniej)*enc\n",
    "                enc=self.srednia.copy()\n",
    "        \n",
    "        if self.metryka==\"cos\":\n",
    "            scores = (self.encoded_corpus @ enc).ravel()\n",
    "        elif self.metryka==\"euklides\":\n",
    "            scores= -np.sqrt(np.sum((self.encoded_corpus -enc)**2,axis=1)).ravel()\n",
    "        else:\n",
    "            raise RuntimeError(\"Błędna metryka.\")\n",
    "        top_idx = scores.argsort()[-10:]\n",
    "        return [self.responses[idx] for idx in top_idx]\n",
    "    \n",
    "    def grupowanieOdpowiedzi(self, listaOdpowiedzi):\n",
    "        zanurzoneOdpowiedzi=np.array([self.encoder.encode(odp) for odp in listaOdpowiedzi])\n",
    "        kmeans=KMeans(n_clusters=3)\n",
    "        grupy=kmeans.fit_predict(zanurzoneOdpowiedzi)\n",
    "        U, licznosc=np.unique(grupy,return_counts=True)\n",
    "        idx=np.argmin(licznosc)\n",
    "        for i in range(grupy.shape[0]):\n",
    "            if grupy[i]==idx:\n",
    "                return listaOdpowiedzi[i]\n",
    "        raise RuntimeError(\"Nie znaleziono odpowiedzi\")"
   ]
  },
  {
   "cell_type": "code",
   "execution_count": 466,
   "metadata": {},
   "outputs": [],
   "source": [
    "d=DialogNP(encodings, encoder, responses, normalize=False, metryka=\"cos\", czySrednia=False, czyGrupowanie=True)"
   ]
  },
  {
   "cell_type": "code",
   "execution_count": 467,
   "metadata": {},
   "outputs": [
    {
     "name": "stdout",
     "output_type": "stream",
     "text": [
      "[0 1 2] [3 4 3]\n"
     ]
    },
    {
     "data": {
      "text/plain": [
       "'Visual C++ came after regular C++'"
      ]
     },
     "execution_count": 467,
     "metadata": {},
     "output_type": "execute_result"
    }
   ],
   "source": [
    "d.krokDialogu(\"C++ is best language\")"
   ]
  },
  {
   "cell_type": "code",
   "execution_count": 468,
   "metadata": {},
   "outputs": [
    {
     "name": "stdout",
     "output_type": "stream",
     "text": [
      "[0 1 2] [2 6 2]\n"
     ]
    },
    {
     "data": {
      "text/plain": [
       "\"It's quite likely that C++ code rendered this web page for you.\""
      ]
     },
     "execution_count": 468,
     "metadata": {},
     "output_type": "execute_result"
    }
   ],
   "source": [
    "d.krokDialogu(\"But i have said that C++ is best.\")"
   ]
  },
  {
   "cell_type": "code",
   "execution_count": 469,
   "metadata": {},
   "outputs": [
    {
     "name": "stdout",
     "output_type": "stream",
     "text": [
      "[0 1 2] [7 2 1]\n"
     ]
    },
    {
     "data": {
      "text/plain": [
       "'Yet whole applications are written around it and they work perfectly well.'"
      ]
     },
     "execution_count": 469,
     "metadata": {},
     "output_type": "execute_result"
    }
   ],
   "source": [
    "d.krokDialogu(\"Why i can not like c++?\")"
   ]
  },
  {
   "cell_type": "code",
   "execution_count": null,
   "metadata": {},
   "outputs": [],
   "source": []
  }
 ],
 "metadata": {
  "accelerator": "GPU",
  "colab": {
   "collapsed_sections": [],
   "include_colab_link": true,
   "machine_shape": "hm",
   "name": "Assignment4.ipynb",
   "provenance": [],
   "toc_visible": true
  },
  "kernelspec": {
   "display_name": "Python 3",
   "language": "python",
   "name": "python3"
  },
  "language_info": {
   "codemirror_mode": {
    "name": "ipython",
    "version": 3
   },
   "file_extension": ".py",
   "mimetype": "text/x-python",
   "name": "python",
   "nbconvert_exporter": "python",
   "pygments_lexer": "ipython3",
   "version": "3.8.5"
  }
 },
 "nbformat": 4,
 "nbformat_minor": 1
}
